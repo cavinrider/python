{
 "cells": [
  {
   "cell_type": "code",
   "execution_count": null,
   "metadata": {
    "collapsed": true
   },
   "outputs": [],
   "source": [
    "import re\n",
    "def protocol():\n",
    "    file_1 = open ('ShowIpRoute.txt','r')\n",
    "    file_2 = open ('ShowIpRoute.txt','r')\n",
    "    txt = file_1.read()\n",
    "    print(txt,'\\n')\n",
    "    global ip_lines\n",
    "    while True: \n",
    "        \n",
    "        ip_lines=file_2.readline()\n",
    "        dic={'L':'local','C':'connected','S':'static','R':'RIP','M':'Mobile',\n",
    "             'B':'BGP','D':'EIGRP','EX':'EIGRP external','O':'OSPF', \n",
    "             'IA':'OSPF inter area','N1':'OSPF NSSA external type 1',\n",
    "             'N2':'OSPF NSSA external type 2','O E2':'OSPF external type 2',\n",
    "             'I L1':'IS-IS level-1','E':'EGP','O E1':'OSPF external type 1', \n",
    "             'I L2':'IS-IS level-2','I':'IS-IS','Ia':'IS-IS inter area',\n",
    "             '*':'candidate default','U':'per-user static route',\n",
    "             'o':'ODR','P':'periodic downloaded static route','H':'NHRP',\n",
    "             'l':'LISP','A':'application route','+':'replicated route',\n",
    "             '%':'next hop override'}\n",
    "        match=re.match(r'(?P<Protocol>\\D.*) (?P<Fip>\\b\\d[\\d|\\.]+\\d\\b) (?P<AD>.*) via (?P<Sip>\\b\\d[\\d|\\.]+\\d\\b).* (?P<Time>\\b\\d[\\d|\\:]+\\d\\b), (?P<Interface>.*)',ip_lines)\n",
    "        \n",
    "        if (match):\n",
    "            print (\"Protocol:\\t\\t\"+dic[match.group('Protocol')])\n",
    "            print (\"Prefix:\\t\\t\\t\"+match.group('Fip'))\n",
    "            print (\"AD/Metric:\\t\\t\"+match.group('AD'))\n",
    "            print (\"Next-hop:\\t\\t\"+match.group('Sip'))\n",
    "            print (\"Last Update:\\t\\t\"+match.group('Time'))\n",
    "            print (\"Outbound interface:\\t\"+match.group('Interface'),'\\n')\n",
    "        \n",
    "protocol()"
   ]
  }
 ],
 "metadata": {
  "kernelspec": {
   "display_name": "Python 3",
   "language": "python",
   "name": "python3"
  },
  "language_info": {
   "codemirror_mode": {
    "name": "ipython",
    "version": 3
   },
   "file_extension": ".py",
   "mimetype": "text/x-python",
   "name": "python",
   "nbconvert_exporter": "python",
   "pygments_lexer": "ipython3",
   "version": "3.6.3"
  }
 },
 "nbformat": 4,
 "nbformat_minor": 2
}
