{
 "cells": [
  {
   "cell_type": "code",
   "execution_count": null,
   "metadata": {
    "collapsed": true
   },
   "outputs": [],
   "source": [
    "import random\n",
    "import ipaddress\n",
    "import sys \n",
    "def ip():\n",
    "    #validate user input ip\n",
    "    print (\"\\n\")\n",
    "    while True:\n",
    "        ip_add=input(\"Please give me an IP \\n\")\n",
    "        a = ip_add.split('.')\n",
    "        if (len(a)==4) and (1<=int(a[0])<=223) and (int(a [0]) !=127) and (int (a[0])!=169 or int (a[1])!=254) and (0 <= int(a[1]) <= 255 and 0 <= int(a[2]) <= 255 and 0 <= int(a[3]) <= 255):\n",
    "            e= [bin(int(x)+256)[3:] for x in a]\n",
    "            #print (e)\n",
    "            #print (a)\n",
    "            break\n",
    "        else:\n",
    "            print(\"Give me something THAT I can work with please \")\n",
    "            continue \n",
    "    print (\"\\n\")\n",
    "    #validate user input subnet mask\n",
    "    while True:\n",
    "        mask = [\"16\",\"18\",\"17\",\"19\",\"20\",\"21\",\"22\",\"23\",\"24\",\"25\",\"26\",\"27\",\"28\",\"29\",\"30\"]\n",
    "        subnet = input( \"I need a subnet for futher progress \\n\")\n",
    "    \n",
    "        if subnet in mask:\n",
    "            \n",
    "            break\n",
    "        else:\n",
    "            print (\"Given number is wrong!\")\n",
    "            continue\n",
    "    print(\"\\n\")\n",
    "    print(\"Ip address: {} /{}\\n\". format(ip_add,subnet))\n",
    "    \n",
    "    #finding net and broadcast address\n",
    "    IP = ip_add\n",
    "    Mask = subnet\n",
    "    host = ipaddress.IPv4Address(IP)\n",
    "    net = ipaddress.IPv4Network(IP + '/' + Mask, False)\n",
    "    print(\"network address:\", ipaddress.IPv4Address(int(host) & int(net.netmask)))\n",
    "    print(\"broadcast:\", net.broadcast_address)\n",
    "    print(\"\\n\")\n",
    "    #rows = [a,e]\n",
    "    #output = ''\n",
    "    #for row in rows:\n",
    "        #output += '\\t'.join(row) +'\\t''\\t''\\t''\\t''\\n'\n",
    "    #print(output)\n",
    "    \n",
    "    #table like output\n",
    "    decimal = e\n",
    "    binary = a\n",
    "    print(\"\\t\"\"\\t\"\"\\t\".join(a))\n",
    "    print(\"\\t\"\"\\t\".join(e))\n",
    "    \n",
    "ip()"
   ]
  }
 ],
 "metadata": {
  "kernelspec": {
   "display_name": "Python 3",
   "language": "python",
   "name": "python3"
  },
  "language_info": {
   "codemirror_mode": {
    "name": "ipython",
    "version": 3
   },
   "file_extension": ".py",
   "mimetype": "text/x-python",
   "name": "python",
   "nbconvert_exporter": "python",
   "pygments_lexer": "ipython3",
   "version": "3.6.3"
  }
 },
 "nbformat": 4,
 "nbformat_minor": 2
}
