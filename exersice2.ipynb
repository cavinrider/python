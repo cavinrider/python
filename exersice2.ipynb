{
 "cells": [
  {
   "cell_type": "code",
   "execution_count": null,
   "metadata": {},
   "outputs": [],
   "source": [
    "import re\n",
    "def vlan():\n",
    "    #open the txt file\n",
    "    file = open ('commands.txt', 'rt')                                  \n",
    "    #read the file\n",
    "    a = file.read()                                                     \n",
    "    #match only the intergers in the given txt\n",
    "    s = re.findall(r'\\d+',a)  \n",
    "    # find the repeated elemets in the set\n",
    "    set_1 = set([x for x in s if s.count(x)>2]) \n",
    "    #find the non-repeated elemets in the set\n",
    "    set_2 = set_1.symmetric_difference(s) \n",
    "    #change the set to list for have sorted list\n",
    "    list_1 = sorted(set_1,key = int)                                    \n",
    "    list_2 = sorted(set_2,key = int)\n",
    "    #printing the txt, tittle, and the list\n",
    "    print(a+\"\\n\")                                                       \n",
    "    print(\"sorted list\")                                                \n",
    "    print (\"list_1=\"+format(list_1))                                    \n",
    "    print (\"list_2=\"+format(list_2))                                    \n",
    "    \n",
    "vlan ()"
   ]
  },
  {
   "cell_type": "code",
   "execution_count": null,
   "metadata": {
    "collapsed": true
   },
   "outputs": [],
   "source": []
  },
  {
   "cell_type": "code",
   "execution_count": null,
   "metadata": {
    "collapsed": true
   },
   "outputs": [],
   "source": []
  },
  {
   "cell_type": "code",
   "execution_count": null,
   "metadata": {
    "collapsed": true
   },
   "outputs": [],
   "source": []
  },
  {
   "cell_type": "code",
   "execution_count": null,
   "metadata": {
    "collapsed": true
   },
   "outputs": [],
   "source": []
  },
  {
   "cell_type": "code",
   "execution_count": null,
   "metadata": {
    "collapsed": true
   },
   "outputs": [],
   "source": []
  },
  {
   "cell_type": "code",
   "execution_count": null,
   "metadata": {
    "collapsed": true
   },
   "outputs": [],
   "source": []
  }
 ],
 "metadata": {
  "kernelspec": {
   "display_name": "Python 3",
   "language": "python",
   "name": "python3"
  },
  "language_info": {
   "codemirror_mode": {
    "name": "ipython",
    "version": 3
   },
   "file_extension": ".py",
   "mimetype": "text/x-python",
   "name": "python",
   "nbconvert_exporter": "python",
   "pygments_lexer": "ipython3",
   "version": "3.6.3"
  }
 },
 "nbformat": 4,
 "nbformat_minor": 2
}
