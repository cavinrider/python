{
 "cells": [
  {
   "cell_type": "code",
   "execution_count": null,
   "metadata": {},
   "outputs": [],
   "source": [
    "import re\n",
    "def ports():\n",
    "    while True:\n",
    "        interface_type = input(\"Enter Interface type(access/trunk)\")                   \n",
    "        a = interface_type                                                              \n",
    "        #start of user choice \n",
    "        if a== \"access\":                                                                \n",
    "            p_access = input(\"Enter interface type and number:\")                       \n",
    "            #regex to match user input for proper input\n",
    "            if re.search(r\"\\D+\\d+((/\\d+)+(\\.\\d+)?)?\", p_access) is not None:           \n",
    "                global vlan_num                                                        \n",
    "                try:\n",
    "                    #make sure the input is intiger\n",
    "                    vlan_num = int(input(\"Enter VLAN number\"))                         \n",
    "                #error statment if not an intiger\n",
    "                except ValueError:                                                    \n",
    "                    print(\"IT IS NOT A VLAN!\") \n",
    "                #interface printout based on user input\n",
    "                print('\\n''Interface''\\t' + format (p_access))                         \n",
    "                #print templet based on user input\n",
    "                print('switchport mode access','\\n'\n",
    "                      'switchport access vlan '+ format(vlan_num),'\\n'                \n",
    "                      'switchport nonegotiate','\\n'\n",
    "                      'spanning-tree portfast','\\n'\n",
    "                      'spanning-tree bpduguard enable''\\n')\n",
    "            #this is error statement if user didnt put proper interface\n",
    "            else:                                                                      \n",
    "                print(\"error\")\n",
    "            continue                                                                   \n",
    "        #second user option\n",
    "        elif a == \"trunk\":                                                            \n",
    "            p_trunk = input(\"Enter interface type and number:\")                        \n",
    "            #regex to match user input for proper input\n",
    "            if re.search(r\"\\D+\\d+((/\\d+)+(\\.\\d+)?)?\", p_trunk) is not None:            \n",
    "                global a_vlan                                                          \n",
    "                try:\n",
    "                    a_vlan = (input(\"Enter allowed VLANs\"))                            \n",
    "                    #change the string to intiger and map it as an elements in a list\n",
    "                    input_list = list(map(int,a_vlan.split()))                         \n",
    "                #error statement if input is not intiger\n",
    "                except ValueError:                                                     \n",
    "                    print(\"IT IS NOT A VLAN!\")\n",
    "                #loop to run the code based on number of user input\n",
    "                for i in range(len(input_list)):                                        \n",
    "                    print('Interface''\\t' + format (p_trunk))                          \n",
    "                    #error statement if the particular elements is not in range\n",
    "                    if (input_list[i]>4094):                                            \n",
    "                        print(\"error\")\n",
    "                    #print the templete based on user input\n",
    "                    else:                                                              \n",
    "                        print('switchport mode trunk','\\n'\n",
    "                               'switchport trunk allowed vlan'+ format(input_list[i]),'\\n')\n",
    "            #error statement if user didnt put proper interface \n",
    "            else:                                                                      \n",
    "                print(\"error\")\n",
    "                                                                                \n",
    "        #if user didnt choose given option\n",
    "        else:                                                                          \n",
    "                print(\"Please choose mode type again!\")\n",
    "        continue\n",
    "     \n",
    "ports()"
   ]
  },
  {
   "cell_type": "code",
   "execution_count": null,
   "metadata": {
    "collapsed": true
   },
   "outputs": [],
   "source": []
  }
 ],
 "metadata": {
  "kernelspec": {
   "display_name": "Python 3",
   "language": "python",
   "name": "python3"
  },
  "language_info": {
   "codemirror_mode": {
    "name": "ipython",
    "version": 3
   },
   "file_extension": ".py",
   "mimetype": "text/x-python",
   "name": "python",
   "nbconvert_exporter": "python",
   "pygments_lexer": "ipython3",
   "version": "3.6.3"
  }
 },
 "nbformat": 4,
 "nbformat_minor": 2
}
